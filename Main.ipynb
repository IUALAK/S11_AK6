{
 "cells": [
  {
   "cell_type": "code",
   "execution_count": 42,
   "id": "11196ce5-b379-4cba-91c6-aa24ac080a7d",
   "metadata": {},
   "outputs": [],
   "source": [
    "# Getting List of Species from Assemblies \n",
    "\n",
    "from Bio import Entrez\n",
    "import pandas as pd\n",
    "import re\n",
    "from mymail import mail\n",
    "\n",
    "Entrez.mail = mail\n",
    "handle = Entrez.esearch(db=\"assembly\", retmax=10000, term=\"\\\"(Archaea\\\"[Organism] OR \\\"Eukaryota\\\"[Organism]) AND (latest[filter] AND (\\\"chromosome level\\\"[filter] OR \\\"complete genome\\\"[filter]) AND all[filter] NOT anomalous[filter])\", )\n",
    "# handle = Entrez.esearch(db='assembly', retmax=1, term=\"GRCh38.p14\")\n",
    "record = Entrez.read(handle)\n",
    "handle.close()\n",
    "\n",
    "AssemblyTable = {'AssemblyName': [], 'Organism': []}\n",
    "for ID in record['IdList']:\n",
    "    handle = Entrez.efetch(db=\"assembly\", id=ID, rettype='docsum', retmode='xml')\n",
    "    try:\n",
    "        AssemblyRecord = Entrez.read(handle, validate = False)['DocumentSummarySet']['DocumentSummary'][0]\n",
    "    except:\n",
    "        continue\n",
    "    # print(Entrez.read(handle)['DocumentSummarySet']['DocumentSummary'][0])\n",
    "    AssemblyName = AssemblyRecord['AssemblyName']\n",
    "    AssemblyOrganism = AssemblyRecord[\"Organism\"]\n",
    "    AssemblyTable['AssemblyName'].append(AssemblyName)\n",
    "    AssemblyTable['Organism'].append(re.sub(r\" \\(.*\\)\", \"\", AssemblyOrganism))\n",
    "AssemblyTable = pd.DataFrame(AssemblyTable)\n",
    "AssemblyTable.to_csv('./InputData/AssemblyTable.csv', index=False)\n"
   ]
  },
  {
   "cell_type": "code",
   "execution_count": null,
   "id": "79d85050-2dc2-4a2b-b848-cc71be978f52",
   "metadata": {},
   "outputs": [],
   "source": [
    "#TODO: mb delete this at the end\n",
    "from Bio import Entrez\n",
    "import pandas as pd\n",
    "import re\n",
    "from mymail import mail\n",
    "\n",
    "Entrez.email = mail\n",
    "handle = Entrez.esearch(db='gene', retmax=1, term='\"Eukaryota\"[Organism] AND rps11[Gene Name] AND (\"source_genomic\"[properties] AND alive[prop])')\n",
    "record = Entrez.read(handle)\n",
    "handle.close()\n",
    "\n",
    "for ID in record['IdList']:\n",
    "    handle = Entrez.efetch(db='gene', id=ID, retmode='xml')\n",
    "    print(Entrez.read(handle)[0])"
   ]
  },
  {
   "cell_type": "code",
   "execution_count": 7,
   "id": "ee7b6b43-4d95-42b4-8613-8584dd99c209",
   "metadata": {},
   "outputs": [],
   "source": [
    "# Formatting S11input.tsv and AK6input.tsv\n",
    "import pandas as pd\n",
    "import re\n",
    "\n",
    "def format_input_data(FileName):\n",
    "    DF = pd.read_csv(f'{FileName}', sep = '\\t' ,index_col=False)\n",
    "\n",
    "    for Organism in DF['Organism']:\n",
    "        DF.loc[DF['Organism'] == Organism, 'Organism'] = re.sub('\\(.*\\)', '', Organism)\n",
    "\n",
    "    # DF.loc[DF['Organism'].str.contains(\"Homo\")].head()\n",
    "    DF\n",
    "    DF.to_csv(f'{FileName}', sep='\\t', index=False)\n",
    "\n",
    "format_input_data('./InputData/S11Input.tsv')\n",
    "format_input_data('./InputData/AK6Input.tsv')"
   ]
  },
  {
   "cell_type": "code",
   "execution_count": 119,
   "id": "42ea18d8-2a15-4a65-aae0-cb5139f390c4",
   "metadata": {},
   "outputs": [],
   "source": [
    "# Formatting AK6Input.csv\n",
    "import pandas as pd\n",
    "import re\n",
    "\n",
    "DF = pd.read_csv('./InputData/AK6Input.csv', index_col=False)\n",
    "\n",
    "for Organism in DF['Organism']:\n",
    "    DF.loc[DF['Organism'].str.contains(Organism), 'Organism'] = re.sub('\\(.*\\)', '', Organism)\n",
    "\n",
    "DF\n",
    "DF.to_csv('./InputData/AK6Input.csv', index=False)"
   ]
  },
  {
   "cell_type": "code",
   "execution_count": 68,
   "id": "e9c60898-4b20-418d-923a-644bbbc49439",
   "metadata": {},
   "outputs": [],
   "source": [
    "# Finding needed rows\n",
    "import pandas as pd\n",
    "\n",
    "AssemblyFrame = pd.read_csv('./InputData/AssemblyTable.csv', index_col=False)\n",
    "AK6Frame = pd.read_csv('./InputData/AK6Input.tsv', sep='\\t', index_col=False)\n",
    "S11Frame = pd.read_csv('./InputData/S11Input.tsv', sep='\\t', index_col=False)\n",
    "OrganismList = set(AssemblyFrame['Organism'].to_list())\n",
    "\n",
    "def filter_rows(DF, FileName):\n",
    "    \n",
    "    NewDF = pd.DataFrame()\n",
    "    for Organism in OrganismList:\n",
    "        ToAdd = DF.loc[DF['Organism'].str.contains(Organism)]\n",
    "        NewDF = pd.concat([NewDF, ToAdd])\n",
    "    \n",
    "    NewDF = NewDF.sort_values(['Reviewed','Annotation'], ascending = [True,False])\n",
    "    NewDF = NewDF.drop_duplicates('Organism', keep = 'first')\n",
    "    NewDF.to_csv(f'{FileName}.csv', index=False)\n",
    "\n",
    "filter_rows(AK6Frame, './InputData/FilteredAK6')\n",
    "filter_rows(S11Frame, './InputData/FilteredS11')\n",
    "# NewAK6Frame.loc[NewAK6Frame['Organism'].str.contains('Homo sapiens')]"
   ]
  },
  {
   "cell_type": "code",
   "execution_count": 67,
   "id": "e164578a",
   "metadata": {},
   "outputs": [],
   "source": [
    "# Working with uS11 C-ter\n",
    "# TODO: Add new column for second protein and save all this in another file \n",
    "import pandas as pd\n",
    "import re\n",
    "\n",
    "S11Frame = pd.read_csv('./InputData/FilteredS11.csv' , index_col=False)\n",
    "S11Frame['C-ter'] = None\n",
    "SequenceDict = {'Sequence': [], 'C-ter': []}\n",
    "for Sequence in S11Frame['Sequence']:\n",
    "    Sequence = Sequence[-40:]\n",
    "    if re.findall('D.{6}D', Sequence) != [] :\n",
    "        SequenceDict['C-ter'].append(1)\n",
    "    else:\n",
    "        SequenceDict['C-ter'].append(0)\n",
    "    SequenceDict['Sequence'].append(Sequence[-40:])\n",
    "\n",
    "# SequenceDict['C-ter']\n",
    "S11Frame['Sequence'] = pd.Series(SequenceDict['Sequence'])\n",
    "S11Frame['C-ter'] = pd.Series(SequenceDict['C-ter'])\n",
    "S11Frame.to_csv('./InputData/FinalData.csv', index=False)"
   ]
  }
 ],
 "metadata": {
  "kernelspec": {
   "display_name": "Python 3 (ipykernel)",
   "language": "python",
   "name": "python3"
  },
  "language_info": {
   "codemirror_mode": {
    "name": "ipython",
    "version": 3
   },
   "file_extension": ".py",
   "mimetype": "text/x-python",
   "name": "python",
   "nbconvert_exporter": "python",
   "pygments_lexer": "ipython3",
   "version": "3.10.4"
  }
 },
 "nbformat": 4,
 "nbformat_minor": 5
}

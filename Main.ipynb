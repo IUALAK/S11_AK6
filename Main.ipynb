{
 "cells": [
  {
   "cell_type": "code",
   "execution_count": 42,
   "id": "11196ce5-b379-4cba-91c6-aa24ac080a7d",
   "metadata": {},
   "outputs": [],
   "source": [
    "# Getting List of Species from Assemblies \n",
    "\n",
    "from Bio import Entrez\n",
    "import pandas as pd\n",
    "import re\n",
    "from mymail import mail\n",
    "\n",
    "Entrez.mail = mail\n",
    "handle = Entrez.esearch(db=\"assembly\", retmax=10000, term=\"\\\"(Archaea\\\"[Organism] OR \\\"Eukaryota\\\"[Organism]) AND (latest[filter] AND (\\\"chromosome level\\\"[filter] OR \\\"complete genome\\\"[filter]) AND all[filter] NOT anomalous[filter])\", )\n",
    "# handle = Entrez.esearch(db='assembly', retmax=1, term=\"GRCh38.p14\")\n",
    "record = Entrez.read(handle)\n",
    "handle.close()\n",
    "\n",
    "AssemblyTable = {'AssemblyName': [], 'Organism': []}\n",
    "for ID in record['IdList']:\n",
    "    handle = Entrez.efetch(db=\"assembly\", id=ID, rettype='docsum', retmode='xml')\n",
    "    try:\n",
    "        AssemblyRecord = Entrez.read(handle, validate = False)['DocumentSummarySet']['DocumentSummary'][0]\n",
    "    except:\n",
    "        continue\n",
    "    # print(Entrez.read(handle)['DocumentSummarySet']['DocumentSummary'][0])\n",
    "    AssemblyName = AssemblyRecord['AssemblyName']\n",
    "    AssemblyOrganism = AssemblyRecord[\"Organism\"]\n",
    "    AssemblyTable['AssemblyName'].append(AssemblyName)\n",
    "    AssemblyTable['Organism'].append(re.sub(r\" \\(.*\\)\", \"\", AssemblyOrganism))\n",
    "AssemblyTable = pd.DataFrame(AssemblyTable)\n",
    "AssemblyTable.to_csv('./InputData/AssemblyTable.csv', index=False)\n"
   ]
  },
  {
   "cell_type": "code",
   "execution_count": null,
   "id": "79d85050-2dc2-4a2b-b848-cc71be978f52",
   "metadata": {},
   "outputs": [],
   "source": [
    "#TODO: mb delete this at the end\n",
    "from Bio import Entrez\n",
    "import pandas as pd\n",
    "import re\n",
    "from mymail import mail\n",
    "\n",
    "Entrez.email = mail\n",
    "handle = Entrez.esearch(db='gene', retmax=1, term='\"Eukaryota\"[Organism] AND rps11[Gene Name] AND (\"source_genomic\"[properties] AND alive[prop])')\n",
    "record = Entrez.read(handle)\n",
    "handle.close()\n",
    "\n",
    "for ID in record['IdList']:\n",
    "    handle = Entrez.efetch(db='gene', id=ID, retmode='xml')\n",
    "    print(Entrez.read(handle)[0])"
   ]
  },
  {
   "cell_type": "code",
   "execution_count": 1,
   "id": "ee7b6b43-4d95-42b4-8613-8584dd99c209",
   "metadata": {},
   "outputs": [],
   "source": [
    "# Formatting S11input.tsv and AK6input.tsv\n",
    "import pandas as pd\n",
    "import re\n",
    "\n",
    "def format_input_data(FileName):\n",
    "    DF = pd.read_csv(f'{FileName}', sep = '\\t' ,index_col=False)\n",
    "\n",
    "    for Organism in DF['Organism']:\n",
    "        DF.loc[DF['Organism'] == Organism, 'Organism'] = re.sub('\\(.*\\)', '', Organism)\n",
    "\n",
    "    # DF.loc[DF['Organism'].str.contains(\"Homo\")].head()\n",
    "    DF\n",
    "    DF.to_csv(f'{FileName}', sep='\\t', index=False)\n",
    "\n",
    "format_input_data('./InputData/S11Input.tsv')\n",
    "format_input_data('./InputData/AK6Input.tsv')"
   ]
  },
  {
   "cell_type": "code",
   "execution_count": 2,
   "id": "e9c60898-4b20-418d-923a-644bbbc49439",
   "metadata": {},
   "outputs": [],
   "source": [
    "# Finding needed rows\n",
    "import pandas as pd\n",
    "\n",
    "AssemblyFrame = pd.read_csv('./InputData/AssemblyTable.csv', index_col=False)\n",
    "AK6Frame = pd.read_csv('./InputData/AK6Input.tsv', sep='\\t', index_col=False)\n",
    "S11Frame = pd.read_csv('./InputData/S11Input.tsv', sep='\\t', index_col=False)\n",
    "OrganismList = set(AssemblyFrame['Organism'].to_list())\n",
    "\n",
    "def filter_rows(DF, FileName):\n",
    "    \n",
    "    NewDF = pd.DataFrame()\n",
    "    for Organism in OrganismList:\n",
    "        ToAdd = DF.loc[DF['Organism'].str.contains(Organism)]\n",
    "        NewDF = pd.concat([NewDF, ToAdd])\n",
    "    \n",
    "    NewDF = NewDF.sort_values(['Reviewed','Annotation'], ascending = [True,False])\n",
    "    NewDF = NewDF.drop_duplicates('Organism', keep = 'first')\n",
    "    NewDF.to_csv(f'{FileName}.csv', index=False)\n",
    "\n",
    "filter_rows(AK6Frame, './InputData/FilteredAK6')\n",
    "filter_rows(S11Frame, './InputData/FilteredS11')\n",
    "# NewAK6Frame.loc[NewAK6Frame['Organism'].str.contains('Homo sapiens')]"
   ]
  },
  {
   "cell_type": "code",
   "execution_count": 4,
   "id": "e164578a",
   "metadata": {},
   "outputs": [],
   "source": [
    "# Working with uS11 C-ter\n",
    "import pandas as pd\n",
    "import re\n",
    "\n",
    "S11Frame = pd.read_csv('./InputData/FilteredS11.csv' , index_col=False)\n",
    "CTerGroup = []\n",
    "for Sequence in S11Frame['Sequence']:\n",
    "    Sequence = Sequence[-40:]\n",
    "    if re.findall('D.{6}D', Sequence) != [] :\n",
    "        CTerGroup.append(1)\n",
    "    else:\n",
    "        CTerGroup.append(0)\n",
    "\n",
    "S11Frame['C-ter_group'] = pd.Series(CTerGroup)\n",
    "\n",
    "S11Frame.to_csv('./InputData/FilteredS11.csv', index=False)"
   ]
  },
  {
   "cell_type": "code",
   "execution_count": 67,
   "id": "f66725f5",
   "metadata": {},
   "outputs": [],
   "source": [
    "# Finding Interaction between AK6 and S11\n",
    "import pandas as pd\n",
    "import re\n",
    "\n",
    "S11Frame = pd.read_csv('./InputData/FilteredS11.csv' , index_col=False)\n",
    "AK6Frame = pd.read_csv('./InputData/FilteredAK6.csv' , index_col=False)\n",
    "S11Frame.rename(columns={'Sequence':'S11_Sequence'}, inplace=True)\n",
    "\n",
    "FinalFrame = pd.DataFrame(columns=['Entry','Organism', 'Taxonomic lineage','S11_Sequence', 'C-ter_group', 'AK6_group'])\n",
    "FinalFrame = pd.concat([FinalFrame, S11Frame[['Entry','Organism','Taxonomic lineage', 'S11_Sequence', 'C-ter_group']]], join='outer')\n",
    "FinalFrame.rename(columns={'Entry':'S11_Entry', 'Taxonomic lineage': 'Taxonomic_lineage'}, inplace=True)\n",
    "# FinalFrame = pd.concat([FinalFrame, AK6Frame[['Organism','Entry']]], join = 'outer')\n",
    "# FinalFrame['Entry'] = ''\n",
    "FinalFrame = FinalFrame.merge(AK6Frame[['Entry','Organism']], how='left')\n",
    "# FinalFrame.rename(columns={'Entry': 'AK6_Entry'})\n",
    "col = FinalFrame.pop('Entry')\n",
    "FinalFrame.insert(1,'AK6_Entry', col)\n",
    "AK6Group = []\n",
    "for Organism in FinalFrame['Organism']:\n",
    "    if Organism in AK6Frame['Organism'].to_list():\n",
    "        AK6Group.append(1)\n",
    "    else:\n",
    "        AK6Group.append(0)\n",
    "FinalFrame['AK6_group'] = AK6Group\n",
    "\n",
    "TaxonList = []\n",
    "for Taxon in FinalFrame['Taxonomic_lineage']:\n",
    "    TaxonLine = re.split(',', Taxon)\n",
    "    TaxonLine.reverse()\n",
    "    del TaxonLine[0]\n",
    "    TaxonList.append(','.join(TaxonLine))\n",
    "FinalFrame['Taxonomic_lineage'] = TaxonList\n",
    "\n",
    "FinalFrame.to_csv('./OutputData/FinalData.csv', index=False)"
   ]
  },
  {
   "cell_type": "code",
   "execution_count": 66,
   "id": "48729508",
   "metadata": {},
   "outputs": [
    {
     "data": {
      "image/png": "[encoded data removed]",
      "text/plain": [
       "<Figure size 432x288 with 2 Axes>"
      ]
     },
     "metadata": {
      "needs_background": "light"
     },
     "output_type": "display_data"
    },
    {
     "data": {
      "image/png": "[encoded data removed]",
      "text/plain": [
       "<Figure size 432x288 with 2 Axes>"
      ]
     },
     "metadata": {
      "needs_background": "light"
     },
     "output_type": "display_data"
    }
   ],
   "source": [
    "# Statistical analysis and visualization\n",
    "\n",
    "import pandas as pd\n",
    "import seaborn as sns\n",
    "\n",
    "FinalFrame = pd.read_csv('./OutputData/FinalData.csv', index_col=False)\n",
    "\n",
    "sns.heatmap(FinalFrame.corr().round(3), annot=True).get_figure().savefig('./OutputData/Correlation')\n",
    "FinalFrame.plot.hexbin(x='C-ter_group',y='AK6_group', gridsize=2, sharex=False).get_figure().savefig('./OutputData/HexPlot')"
   ]
  },
  {
   "cell_type": "code",
   "execution_count": null,
   "id": "b102959f-a313-4978-9bec-6a5056737fcf",
   "metadata": {},
   "outputs": [],
   "source": []
  }
 ],
 "metadata": {
  "interpreter": {
   "hash": "ecca2f13817686e166f6039760b1edda2b71f893965550c9b1a24a0e2b45b6d1"
  },
  "kernelspec": {
   "display_name": "Python 3 (ipykernel)",
   "language": "python",
   "name": "python3"
  },
  "language_info": {
   "codemirror_mode": {
    "name": "ipython",
    "version": 3
   },
   "file_extension": ".py",
   "mimetype": "text/x-python",
   "name": "python",
   "nbconvert_exporter": "python",
   "pygments_lexer": "ipython3",
   "version": "3.9.12"
  }
 },
 "nbformat": 4,
 "nbformat_minor": 5
}
